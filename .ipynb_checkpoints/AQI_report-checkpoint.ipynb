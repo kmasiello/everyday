{
 "cells": [
  {
   "cell_type": "markdown",
   "id": "6444e919",
   "metadata": {},
   "source": [
    "# A Jupyter Notebook to poll the daily AQI readings for a location."
   ]
  },
  {
   "cell_type": "markdown",
   "id": "3dc3dbee",
   "metadata": {},
   "source": [
    "Build the API query URL"
   ]
  },
  {
   "cell_type": "code",
   "execution_count": 1,
   "id": "3c922cfa",
   "metadata": {},
   "outputs": [],
   "source": [
    "base_url = \"https://www.airnowapi.org/aq/data/\""
   ]
  },
  {
   "cell_type": "code",
   "execution_count": 2,
   "id": "afd704ff",
   "metadata": {},
   "outputs": [],
   "source": [
    "from datetime import datetime\n",
    "from datetime import timedelta"
   ]
  },
  {
   "cell_type": "code",
   "execution_count": 3,
   "id": "9eb83012",
   "metadata": {},
   "outputs": [],
   "source": [
    "timespan = 24 #hours\n",
    "now = datetime.now()\n",
    "then = now - timedelta(hours=timespan)"
   ]
  },
  {
   "cell_type": "code",
   "execution_count": 4,
   "id": "cf526937",
   "metadata": {},
   "outputs": [
    {
     "data": {
      "text/plain": [
       "datetime.datetime(2022, 3, 14, 18, 40, 11, 334854)"
      ]
     },
     "execution_count": 4,
     "metadata": {},
     "output_type": "execute_result"
    }
   ],
   "source": [
    "now"
   ]
  },
  {
   "cell_type": "code",
   "execution_count": 5,
   "id": "2c7ba822",
   "metadata": {},
   "outputs": [
    {
     "data": {
      "text/plain": [
       "datetime.datetime(2022, 3, 13, 18, 40, 11, 334854)"
      ]
     },
     "execution_count": 5,
     "metadata": {},
     "output_type": "execute_result"
    }
   ],
   "source": [
    "then"
   ]
  },
  {
   "cell_type": "code",
   "execution_count": null,
   "id": "86ae9bd5",
   "metadata": {},
   "outputs": [],
   "source": []
  }
 ],
 "metadata": {
  "kernelspec": {
   "display_name": "aqi_report",
   "language": "python",
   "name": "aqi_report"
  },
  "language_info": {
   "codemirror_mode": {
    "name": "ipython",
    "version": 3
   },
   "file_extension": ".py",
   "mimetype": "text/x-python",
   "name": "python",
   "nbconvert_exporter": "python",
   "pygments_lexer": "ipython3",
   "version": "3.9.6"
  }
 },
 "nbformat": 4,
 "nbformat_minor": 5
}
