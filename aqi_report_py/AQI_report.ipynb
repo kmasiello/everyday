{
 "cells": [
  {
   "cell_type": "markdown",
   "id": "9d23c224-2eff-42bc-a0d5-c66b0139b0c4",
   "metadata": {},
   "source": [
    "# A Jupyter Notebook to poll the daily AQI readings for a location."
   ]
  },
  {
   "cell_type": "markdown",
   "id": "1fa8250a",
   "metadata": {},
   "source": [
    "Build the API query URL"
   ]
  },
  {
   "cell_type": "code",
   "execution_count": 23,
   "id": "3b2455ae",
   "metadata": {},
   "outputs": [],
   "source": [
    "base_url = \"https://www.airnowapi.org/aq/data/\""
   ]
  },
  {
   "cell_type": "code",
   "execution_count": 24,
   "id": "15206f37",
   "metadata": {},
   "outputs": [],
   "source": [
    "from datetime import datetime\n",
    "from datetime import timedelta"
   ]
  },
  {
   "cell_type": "code",
   "execution_count": 25,
   "id": "d03ccda4",
   "metadata": {},
   "outputs": [],
   "source": [
    "timespan = 24 #hours\n",
    "now = datetime.now()\n",
    "then = now - timedelta(hours=timespan)"
   ]
  },
  {
   "cell_type": "code",
   "execution_count": 45,
   "id": "05366959",
   "metadata": {},
   "outputs": [],
   "source": [
    "endDate = now.strftime(\"%Y-%m-%dT%H\")\n",
    "startDate = then.strftime(\"%Y-%m-%dT%H\")"
   ]
  },
  {
   "cell_type": "code",
   "execution_count": 46,
   "id": "912d7ba0",
   "metadata": {},
   "outputs": [],
   "source": [
    "#Constant endpoints\n",
    "parameters = \"parameters=OZONE,PM25,PM10,CO,NO2,SO2\"\n",
    "boundingBox = \"BBOX=-123.146648,46.996876,-121.487713,48.204308\"\n",
    "dataType = \"dataType=B\"\n",
    "format_ = \"format=text/csv\"\n",
    "verbose = \"verbose=1\"\n",
    "nowcastonly = \"nowcastonly=1\"\n",
    "includeRaw = \"includerawconcentrations=1\""
   ]
  },
  {
   "cell_type": "code",
   "execution_count": 47,
   "id": "737bed32",
   "metadata": {},
   "outputs": [],
   "source": [
    "from decouple import config"
   ]
  },
  {
   "cell_type": "code",
   "execution_count": 55,
   "id": "3d42b273",
   "metadata": {},
   "outputs": [],
   "source": [
    "query_url = base_url + \"?\" + \"startDate=\" + startDate + \"&\" + \"endDate=\" + endDate + \"&\" + parameters + \"&\" + boundingBox + \"&\" + dataType + \"&\" + format_ + \"&\" + verbose + \"&\" + nowcastonly + \"&\" + includeRaw + \"&API_KEY=\" + config(\"AIRNOW_API_KEY\")"
   ]
  },
  {
   "cell_type": "code",
   "execution_count": 37,
   "id": "8e847bfb",
   "metadata": {},
   "outputs": [],
   "source": [
    "import requests"
   ]
  },
  {
   "cell_type": "code",
   "execution_count": 88,
   "id": "1b028fbb",
   "metadata": {},
   "outputs": [],
   "source": [
    "response = requests.get(query_url)\n",
    "response = response.content"
   ]
  },
  {
   "cell_type": "code",
   "execution_count": 89,
   "id": "97981922",
   "metadata": {},
   "outputs": [],
   "source": [
    "import pandas as pd\n",
    "import io"
   ]
  },
  {
   "cell_type": "code",
   "execution_count": 90,
   "id": "b907a56d",
   "metadata": {},
   "outputs": [],
   "source": [
    "colnames = [\"Latitude\", \"Longitude\", \"UTC\", \"Pollutant\", \"Concentration\", \"Unit\", \"Raw_Concentration\", \"AQI\", \"Category\", \"Site_Name\", \"Site_Agency\", \"AQS_ID\", \"Full_AWS_ID\"]"
   ]
  },
  {
   "cell_type": "code",
   "execution_count": 94,
   "id": "7219dba8",
   "metadata": {},
   "outputs": [],
   "source": [
    "df = pd.read_csv(io.StringIO(response.decode('utf-8')), names = colnames)"
   ]
  },
  {
   "cell_type": "code",
   "execution_count": 95,
   "id": "a465b143",
   "metadata": {},
   "outputs": [
    {
     "data": {
      "text/html": [
       "<div>\n",
       "<style scoped>\n",
       "    .dataframe tbody tr th:only-of-type {\n",
       "        vertical-align: middle;\n",
       "    }\n",
       "\n",
       "    .dataframe tbody tr th {\n",
       "        vertical-align: top;\n",
       "    }\n",
       "\n",
       "    .dataframe thead th {\n",
       "        text-align: right;\n",
       "    }\n",
       "</style>\n",
       "<table border=\"1\" class=\"dataframe\">\n",
       "  <thead>\n",
       "    <tr style=\"text-align: right;\">\n",
       "      <th></th>\n",
       "      <th>Latitude</th>\n",
       "      <th>Longitude</th>\n",
       "      <th>UTC</th>\n",
       "      <th>Pollutant</th>\n",
       "      <th>Concentration</th>\n",
       "      <th>Unit</th>\n",
       "      <th>Raw_Concentration</th>\n",
       "      <th>AQI</th>\n",
       "      <th>Category</th>\n",
       "      <th>Site_Name</th>\n",
       "      <th>Site_Agency</th>\n",
       "      <th>AQS_ID</th>\n",
       "      <th>Full_AWS_ID</th>\n",
       "    </tr>\n",
       "  </thead>\n",
       "  <tbody>\n",
       "    <tr>\n",
       "      <th>0</th>\n",
       "      <td>47.213551</td>\n",
       "      <td>-123.100807</td>\n",
       "      <td>2022-03-14T02:00</td>\n",
       "      <td>PM2.5</td>\n",
       "      <td>1.0</td>\n",
       "      <td>UG/M3</td>\n",
       "      <td>1.000</td>\n",
       "      <td>4</td>\n",
       "      <td>1</td>\n",
       "      <td>Shelton-W Franklin</td>\n",
       "      <td>Washington Department of Ecology</td>\n",
       "      <td>530450007</td>\n",
       "      <td>840530450007</td>\n",
       "    </tr>\n",
       "    <tr>\n",
       "      <th>1</th>\n",
       "      <td>47.029301</td>\n",
       "      <td>-122.821503</td>\n",
       "      <td>2022-03-14T02:00</td>\n",
       "      <td>OZONE</td>\n",
       "      <td>33.0</td>\n",
       "      <td>PPB</td>\n",
       "      <td>39.055</td>\n",
       "      <td>31</td>\n",
       "      <td>1</td>\n",
       "      <td>Lacey-College St</td>\n",
       "      <td>Washington Department of Ecology</td>\n",
       "      <td>530670013</td>\n",
       "      <td>840530670013</td>\n",
       "    </tr>\n",
       "    <tr>\n",
       "      <th>2</th>\n",
       "      <td>47.029301</td>\n",
       "      <td>-122.821503</td>\n",
       "      <td>2022-03-14T02:00</td>\n",
       "      <td>PM2.5</td>\n",
       "      <td>1.1</td>\n",
       "      <td>UG/M3</td>\n",
       "      <td>1.200</td>\n",
       "      <td>5</td>\n",
       "      <td>1</td>\n",
       "      <td>Lacey-College St</td>\n",
       "      <td>Washington Department of Ecology</td>\n",
       "      <td>530670013</td>\n",
       "      <td>840530670013</td>\n",
       "    </tr>\n",
       "    <tr>\n",
       "      <th>3</th>\n",
       "      <td>48.129101</td>\n",
       "      <td>-122.778900</td>\n",
       "      <td>2022-03-14T02:00</td>\n",
       "      <td>PM2.5</td>\n",
       "      <td>3.0</td>\n",
       "      <td>UG/M3</td>\n",
       "      <td>4.000</td>\n",
       "      <td>13</td>\n",
       "      <td>1</td>\n",
       "      <td>Port Townsend-San Juan</td>\n",
       "      <td>Washington Department of Ecology</td>\n",
       "      <td>530310003</td>\n",
       "      <td>840530310003</td>\n",
       "    </tr>\n",
       "    <tr>\n",
       "      <th>4</th>\n",
       "      <td>47.592675</td>\n",
       "      <td>-122.627397</td>\n",
       "      <td>2022-03-14T02:00</td>\n",
       "      <td>PM2.5</td>\n",
       "      <td>3.8</td>\n",
       "      <td>UG/M3</td>\n",
       "      <td>4.000</td>\n",
       "      <td>16</td>\n",
       "      <td>1</td>\n",
       "      <td>Bremerton-Spruce Ave</td>\n",
       "      <td>Washington Department of Ecology</td>\n",
       "      <td>530350007</td>\n",
       "      <td>840530350007</td>\n",
       "    </tr>\n",
       "    <tr>\n",
       "      <th>...</th>\n",
       "      <td>...</td>\n",
       "      <td>...</td>\n",
       "      <td>...</td>\n",
       "      <td>...</td>\n",
       "      <td>...</td>\n",
       "      <td>...</td>\n",
       "      <td>...</td>\n",
       "      <td>...</td>\n",
       "      <td>...</td>\n",
       "      <td>...</td>\n",
       "      <td>...</td>\n",
       "      <td>...</td>\n",
       "      <td>...</td>\n",
       "    </tr>\n",
       "    <tr>\n",
       "      <th>639</th>\n",
       "      <td>47.386101</td>\n",
       "      <td>-122.230202</td>\n",
       "      <td>2022-03-15T02:00</td>\n",
       "      <td>PM2.5</td>\n",
       "      <td>4.4</td>\n",
       "      <td>UG/M3</td>\n",
       "      <td>5.000</td>\n",
       "      <td>18</td>\n",
       "      <td>1</td>\n",
       "      <td>Kent-James &amp; Central</td>\n",
       "      <td>Washington Department of Ecology</td>\n",
       "      <td>530332004</td>\n",
       "      <td>840530332004</td>\n",
       "    </tr>\n",
       "    <tr>\n",
       "      <th>640</th>\n",
       "      <td>47.281400</td>\n",
       "      <td>-122.223300</td>\n",
       "      <td>2022-03-15T02:00</td>\n",
       "      <td>PM2.5</td>\n",
       "      <td>4.3</td>\n",
       "      <td>UG/M3</td>\n",
       "      <td>3.300</td>\n",
       "      <td>18</td>\n",
       "      <td>1</td>\n",
       "      <td>Auburn 29th St</td>\n",
       "      <td>Washington Department of Ecology</td>\n",
       "      <td>840530330047</td>\n",
       "      <td>840530330047</td>\n",
       "    </tr>\n",
       "    <tr>\n",
       "      <th>641</th>\n",
       "      <td>48.054315</td>\n",
       "      <td>-122.171529</td>\n",
       "      <td>2022-03-15T02:00</td>\n",
       "      <td>PM2.5</td>\n",
       "      <td>5.8</td>\n",
       "      <td>UG/M3</td>\n",
       "      <td>7.000</td>\n",
       "      <td>24</td>\n",
       "      <td>1</td>\n",
       "      <td>Marysville-7th Ave</td>\n",
       "      <td>Washington Department of Ecology</td>\n",
       "      <td>530611007</td>\n",
       "      <td>840530611007</td>\n",
       "    </tr>\n",
       "    <tr>\n",
       "      <th>642</th>\n",
       "      <td>47.600863</td>\n",
       "      <td>-122.148397</td>\n",
       "      <td>2022-03-15T02:00</td>\n",
       "      <td>PM2.5</td>\n",
       "      <td>1.4</td>\n",
       "      <td>UG/M3</td>\n",
       "      <td>1.400</td>\n",
       "      <td>6</td>\n",
       "      <td>1</td>\n",
       "      <td>Bellevue-SE 12th</td>\n",
       "      <td>Washington Department of Ecology</td>\n",
       "      <td>530330031</td>\n",
       "      <td>840530330031</td>\n",
       "    </tr>\n",
       "    <tr>\n",
       "      <th>643</th>\n",
       "      <td>47.490200</td>\n",
       "      <td>-121.772697</td>\n",
       "      <td>2022-03-15T02:00</td>\n",
       "      <td>PM2.5</td>\n",
       "      <td>1.1</td>\n",
       "      <td>UG/M3</td>\n",
       "      <td>1.100</td>\n",
       "      <td>5</td>\n",
       "      <td>1</td>\n",
       "      <td>North Bend-North Bend Way (SO)</td>\n",
       "      <td>Washington Department of Ecology</td>\n",
       "      <td>530330017</td>\n",
       "      <td>840530330017</td>\n",
       "    </tr>\n",
       "  </tbody>\n",
       "</table>\n",
       "<p>644 rows × 13 columns</p>\n",
       "</div>"
      ],
      "text/plain": [
       "      Latitude   Longitude               UTC Pollutant  Concentration   Unit  \\\n",
       "0    47.213551 -123.100807  2022-03-14T02:00     PM2.5            1.0  UG/M3   \n",
       "1    47.029301 -122.821503  2022-03-14T02:00     OZONE           33.0    PPB   \n",
       "2    47.029301 -122.821503  2022-03-14T02:00     PM2.5            1.1  UG/M3   \n",
       "3    48.129101 -122.778900  2022-03-14T02:00     PM2.5            3.0  UG/M3   \n",
       "4    47.592675 -122.627397  2022-03-14T02:00     PM2.5            3.8  UG/M3   \n",
       "..         ...         ...               ...       ...            ...    ...   \n",
       "639  47.386101 -122.230202  2022-03-15T02:00     PM2.5            4.4  UG/M3   \n",
       "640  47.281400 -122.223300  2022-03-15T02:00     PM2.5            4.3  UG/M3   \n",
       "641  48.054315 -122.171529  2022-03-15T02:00     PM2.5            5.8  UG/M3   \n",
       "642  47.600863 -122.148397  2022-03-15T02:00     PM2.5            1.4  UG/M3   \n",
       "643  47.490200 -121.772697  2022-03-15T02:00     PM2.5            1.1  UG/M3   \n",
       "\n",
       "     Raw_Concentration  AQI  Category                       Site_Name  \\\n",
       "0                1.000    4         1              Shelton-W Franklin   \n",
       "1               39.055   31         1                Lacey-College St   \n",
       "2                1.200    5         1                Lacey-College St   \n",
       "3                4.000   13         1          Port Townsend-San Juan   \n",
       "4                4.000   16         1            Bremerton-Spruce Ave   \n",
       "..                 ...  ...       ...                             ...   \n",
       "639              5.000   18         1            Kent-James & Central   \n",
       "640              3.300   18         1                  Auburn 29th St   \n",
       "641              7.000   24         1              Marysville-7th Ave   \n",
       "642              1.400    6         1                Bellevue-SE 12th   \n",
       "643              1.100    5         1  North Bend-North Bend Way (SO)   \n",
       "\n",
       "                          Site_Agency        AQS_ID   Full_AWS_ID  \n",
       "0    Washington Department of Ecology     530450007  840530450007  \n",
       "1    Washington Department of Ecology     530670013  840530670013  \n",
       "2    Washington Department of Ecology     530670013  840530670013  \n",
       "3    Washington Department of Ecology     530310003  840530310003  \n",
       "4    Washington Department of Ecology     530350007  840530350007  \n",
       "..                                ...           ...           ...  \n",
       "639  Washington Department of Ecology     530332004  840530332004  \n",
       "640  Washington Department of Ecology  840530330047  840530330047  \n",
       "641  Washington Department of Ecology     530611007  840530611007  \n",
       "642  Washington Department of Ecology     530330031  840530330031  \n",
       "643  Washington Department of Ecology     530330017  840530330017  \n",
       "\n",
       "[644 rows x 13 columns]"
      ]
     },
     "execution_count": 95,
     "metadata": {},
     "output_type": "execute_result"
    }
   ],
   "source": [
    "df"
   ]
  },
  {
   "cell_type": "code",
   "execution_count": 96,
   "id": "3cb70dd0",
   "metadata": {},
   "outputs": [],
   "source": [
    "threshold = 50"
   ]
  },
  {
   "cell_type": "code",
   "execution_count": 98,
   "id": "b6b3acf4",
   "metadata": {},
   "outputs": [
    {
     "data": {
      "text/html": [
       "<div>\n",
       "<style scoped>\n",
       "    .dataframe tbody tr th:only-of-type {\n",
       "        vertical-align: middle;\n",
       "    }\n",
       "\n",
       "    .dataframe tbody tr th {\n",
       "        vertical-align: top;\n",
       "    }\n",
       "\n",
       "    .dataframe thead th {\n",
       "        text-align: right;\n",
       "    }\n",
       "</style>\n",
       "<table border=\"1\" class=\"dataframe\">\n",
       "  <thead>\n",
       "    <tr style=\"text-align: right;\">\n",
       "      <th></th>\n",
       "      <th>Latitude</th>\n",
       "      <th>Longitude</th>\n",
       "      <th>UTC</th>\n",
       "      <th>Pollutant</th>\n",
       "      <th>Concentration</th>\n",
       "      <th>Unit</th>\n",
       "      <th>Raw_Concentration</th>\n",
       "      <th>AQI</th>\n",
       "      <th>Category</th>\n",
       "      <th>Site_Name</th>\n",
       "      <th>Site_Agency</th>\n",
       "      <th>AQS_ID</th>\n",
       "      <th>Full_AWS_ID</th>\n",
       "    </tr>\n",
       "  </thead>\n",
       "  <tbody>\n",
       "    <tr>\n",
       "      <th>628</th>\n",
       "      <td>47.597222</td>\n",
       "      <td>-122.319722</td>\n",
       "      <td>2022-03-15T02:00</td>\n",
       "      <td>PM2.5</td>\n",
       "      <td>17.3</td>\n",
       "      <td>UG/M3</td>\n",
       "      <td>27.0</td>\n",
       "      <td>62</td>\n",
       "      <td>2</td>\n",
       "      <td>Seattle-10th &amp; Weller</td>\n",
       "      <td>Washington Department of Ecology</td>\n",
       "      <td>530330030</td>\n",
       "      <td>840530330030</td>\n",
       "    </tr>\n",
       "  </tbody>\n",
       "</table>\n",
       "</div>"
      ],
      "text/plain": [
       "      Latitude   Longitude               UTC Pollutant  Concentration   Unit  \\\n",
       "628  47.597222 -122.319722  2022-03-15T02:00     PM2.5           17.3  UG/M3   \n",
       "\n",
       "     Raw_Concentration  AQI  Category              Site_Name  \\\n",
       "628               27.0   62         2  Seattle-10th & Weller   \n",
       "\n",
       "                          Site_Agency     AQS_ID   Full_AWS_ID  \n",
       "628  Washington Department of Ecology  530330030  840530330030  "
      ]
     },
     "execution_count": 98,
     "metadata": {},
     "output_type": "execute_result"
    }
   ],
   "source": [
    "exceeding_df = df[df.AQI >= 50]\n",
    "exceeding_df"
   ]
  },
  {
   "cell_type": "code",
   "execution_count": 107,
   "id": "16a9626a",
   "metadata": {},
   "outputs": [
    {
     "name": "stdout",
     "output_type": "stream",
     "text": [
      "AQI threshold exceeded for 1 stations\n"
     ]
    }
   ],
   "source": [
    "if len(exceeding_df) > 0 :\n",
    "    print(\"AQI threshold exceeded for\", len(exceeding_df), \"station(s)\")\n",
    "else:\n",
    "    print(\"All readings okay\")"
   ]
  },
  {
   "cell_type": "code",
   "execution_count": null,
   "id": "cfbee0ce",
   "metadata": {},
   "outputs": [],
   "source": []
  }
 ],
 "metadata": {
  "kernelspec": {
   "display_name": "aqi_report",
   "language": "python",
   "name": "aqi_report"
  },
  "language_info": {
   "codemirror_mode": {
    "name": "ipython",
    "version": 3
   },
   "file_extension": ".py",
   "mimetype": "text/x-python",
   "name": "python",
   "nbconvert_exporter": "python",
   "pygments_lexer": "ipython3",
   "version": "3.9.6"
  },
  "rsconnect": {
   "previousServerId": "c19be6c13ef6ce0486a7fd847d6d3a67",
   "servers": {
    "c19be6c13ef6ce0486a7fd847d6d3a67": {
     "appId": 10980,
     "appMode": "jupyter-static",
     "configUrl": "https://colorado.rstudio.com/rsc/connect/#/apps/3de7e12d-ee4b-41de-913a-8197d738b8a4",
     "disableTLSCheck": false,
     "notebookTitle": "AQI_report",
     "server": "https://colorado.rstudio.com/rsc/",
     "serverName": "Colorado"
    }
   },
   "version": 1
  }
 },
 "nbformat": 4,
 "nbformat_minor": 5
}
